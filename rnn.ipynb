{
  "nbformat": 4,
  "nbformat_minor": 0,
  "metadata": {
    "colab": {
      "name": "Untitled",
      "provenance": [],
      "collapsed_sections": [],
      "authorship_tag": "ABX9TyOxYv9elNdVUEYW/kcT9AV1",
      "include_colab_link": true
    },
    "kernelspec": {
      "name": "python3",
      "display_name": "Python 3"
    },
    "accelerator": "TPU"
  },
  "cells": [
    {
      "cell_type": "markdown",
      "metadata": {
        "id": "view-in-github",
        "colab_type": "text"
      },
      "source": [
        "<a href=\"https://colab.research.google.com/github/SAIKARTHIGEYAN1512/ARouter/blob/master/rnn.ipynb\" target=\"_parent\"><img src=\"https://colab.research.google.com/assets/colab-badge.svg\" alt=\"Open In Colab\"/></a>"
      ]
    },
    {
      "cell_type": "code",
      "metadata": {
        "id": "bXC_L0GVhF34",
        "colab_type": "code",
        "outputId": "536d9e32-f3e9-497e-a9b2-99632122ca94",
        "colab": {
          "base_uri": "https://localhost:8080/",
          "height": 229
        }
      },
      "source": [
        "# Loading data from pycaret\n",
        "from pycaret.datasets import get_data\n",
        "df = get_data('diabetes')"
      ],
      "execution_count": 3,
      "outputs": [
        {
          "output_type": "display_data",
          "data": {
            "text/html": [
              "<div>\n",
              "<style scoped>\n",
              "    .dataframe tbody tr th:only-of-type {\n",
              "        vertical-align: middle;\n",
              "    }\n",
              "\n",
              "    .dataframe tbody tr th {\n",
              "        vertical-align: top;\n",
              "    }\n",
              "\n",
              "    .dataframe thead th {\n",
              "        text-align: right;\n",
              "    }\n",
              "</style>\n",
              "<table border=\"1\" class=\"dataframe\">\n",
              "  <thead>\n",
              "    <tr style=\"text-align: right;\">\n",
              "      <th></th>\n",
              "      <th>Number of times pregnant</th>\n",
              "      <th>Plasma glucose concentration a 2 hours in an oral glucose tolerance test</th>\n",
              "      <th>Diastolic blood pressure (mm Hg)</th>\n",
              "      <th>Triceps skin fold thickness (mm)</th>\n",
              "      <th>2-Hour serum insulin (mu U/ml)</th>\n",
              "      <th>Body mass index (weight in kg/(height in m)^2)</th>\n",
              "      <th>Diabetes pedigree function</th>\n",
              "      <th>Age (years)</th>\n",
              "      <th>Class variable</th>\n",
              "    </tr>\n",
              "  </thead>\n",
              "  <tbody>\n",
              "    <tr>\n",
              "      <th>0</th>\n",
              "      <td>6</td>\n",
              "      <td>148</td>\n",
              "      <td>72</td>\n",
              "      <td>35</td>\n",
              "      <td>0</td>\n",
              "      <td>33.6</td>\n",
              "      <td>0.627</td>\n",
              "      <td>50</td>\n",
              "      <td>1</td>\n",
              "    </tr>\n",
              "    <tr>\n",
              "      <th>1</th>\n",
              "      <td>1</td>\n",
              "      <td>85</td>\n",
              "      <td>66</td>\n",
              "      <td>29</td>\n",
              "      <td>0</td>\n",
              "      <td>26.6</td>\n",
              "      <td>0.351</td>\n",
              "      <td>31</td>\n",
              "      <td>0</td>\n",
              "    </tr>\n",
              "    <tr>\n",
              "      <th>2</th>\n",
              "      <td>8</td>\n",
              "      <td>183</td>\n",
              "      <td>64</td>\n",
              "      <td>0</td>\n",
              "      <td>0</td>\n",
              "      <td>23.3</td>\n",
              "      <td>0.672</td>\n",
              "      <td>32</td>\n",
              "      <td>1</td>\n",
              "    </tr>\n",
              "    <tr>\n",
              "      <th>3</th>\n",
              "      <td>1</td>\n",
              "      <td>89</td>\n",
              "      <td>66</td>\n",
              "      <td>23</td>\n",
              "      <td>94</td>\n",
              "      <td>28.1</td>\n",
              "      <td>0.167</td>\n",
              "      <td>21</td>\n",
              "      <td>0</td>\n",
              "    </tr>\n",
              "    <tr>\n",
              "      <th>4</th>\n",
              "      <td>0</td>\n",
              "      <td>137</td>\n",
              "      <td>40</td>\n",
              "      <td>35</td>\n",
              "      <td>168</td>\n",
              "      <td>43.1</td>\n",
              "      <td>2.288</td>\n",
              "      <td>33</td>\n",
              "      <td>1</td>\n",
              "    </tr>\n",
              "  </tbody>\n",
              "</table>\n",
              "</div>"
            ],
            "text/plain": [
              "   Number of times pregnant  ...  Class variable\n",
              "0                         6  ...               1\n",
              "1                         1  ...               0\n",
              "2                         8  ...               1\n",
              "3                         1  ...               0\n",
              "4                         0  ...               1\n",
              "\n",
              "[5 rows x 9 columns]"
            ]
          },
          "metadata": {
            "tags": []
          }
        }
      ]
    },
    {
      "cell_type": "code",
      "metadata": {
        "id": "H9wxUo5Zrham",
        "colab_type": "code",
        "colab": {
          "base_uri": "https://localhost:8080/",
          "height": 229
        },
        "outputId": "f6cb3e48-9fa4-4487-ab4d-a4a1cfb63359"
      },
      "source": [
        "df.head()"
      ],
      "execution_count": 4,
      "outputs": [
        {
          "output_type": "execute_result",
          "data": {
            "text/html": [
              "<div>\n",
              "<style scoped>\n",
              "    .dataframe tbody tr th:only-of-type {\n",
              "        vertical-align: middle;\n",
              "    }\n",
              "\n",
              "    .dataframe tbody tr th {\n",
              "        vertical-align: top;\n",
              "    }\n",
              "\n",
              "    .dataframe thead th {\n",
              "        text-align: right;\n",
              "    }\n",
              "</style>\n",
              "<table border=\"1\" class=\"dataframe\">\n",
              "  <thead>\n",
              "    <tr style=\"text-align: right;\">\n",
              "      <th></th>\n",
              "      <th>Number of times pregnant</th>\n",
              "      <th>Plasma glucose concentration a 2 hours in an oral glucose tolerance test</th>\n",
              "      <th>Diastolic blood pressure (mm Hg)</th>\n",
              "      <th>Triceps skin fold thickness (mm)</th>\n",
              "      <th>2-Hour serum insulin (mu U/ml)</th>\n",
              "      <th>Body mass index (weight in kg/(height in m)^2)</th>\n",
              "      <th>Diabetes pedigree function</th>\n",
              "      <th>Age (years)</th>\n",
              "      <th>Class variable</th>\n",
              "    </tr>\n",
              "  </thead>\n",
              "  <tbody>\n",
              "    <tr>\n",
              "      <th>0</th>\n",
              "      <td>6</td>\n",
              "      <td>148</td>\n",
              "      <td>72</td>\n",
              "      <td>35</td>\n",
              "      <td>0</td>\n",
              "      <td>33.6</td>\n",
              "      <td>0.627</td>\n",
              "      <td>50</td>\n",
              "      <td>1</td>\n",
              "    </tr>\n",
              "    <tr>\n",
              "      <th>1</th>\n",
              "      <td>1</td>\n",
              "      <td>85</td>\n",
              "      <td>66</td>\n",
              "      <td>29</td>\n",
              "      <td>0</td>\n",
              "      <td>26.6</td>\n",
              "      <td>0.351</td>\n",
              "      <td>31</td>\n",
              "      <td>0</td>\n",
              "    </tr>\n",
              "    <tr>\n",
              "      <th>2</th>\n",
              "      <td>8</td>\n",
              "      <td>183</td>\n",
              "      <td>64</td>\n",
              "      <td>0</td>\n",
              "      <td>0</td>\n",
              "      <td>23.3</td>\n",
              "      <td>0.672</td>\n",
              "      <td>32</td>\n",
              "      <td>1</td>\n",
              "    </tr>\n",
              "    <tr>\n",
              "      <th>3</th>\n",
              "      <td>1</td>\n",
              "      <td>89</td>\n",
              "      <td>66</td>\n",
              "      <td>23</td>\n",
              "      <td>94</td>\n",
              "      <td>28.1</td>\n",
              "      <td>0.167</td>\n",
              "      <td>21</td>\n",
              "      <td>0</td>\n",
              "    </tr>\n",
              "    <tr>\n",
              "      <th>4</th>\n",
              "      <td>0</td>\n",
              "      <td>137</td>\n",
              "      <td>40</td>\n",
              "      <td>35</td>\n",
              "      <td>168</td>\n",
              "      <td>43.1</td>\n",
              "      <td>2.288</td>\n",
              "      <td>33</td>\n",
              "      <td>1</td>\n",
              "    </tr>\n",
              "  </tbody>\n",
              "</table>\n",
              "</div>"
            ],
            "text/plain": [
              "   Number of times pregnant  ...  Class variable\n",
              "0                         6  ...               1\n",
              "1                         1  ...               0\n",
              "2                         8  ...               1\n",
              "3                         1  ...               0\n",
              "4                         0  ...               1\n",
              "\n",
              "[5 rows x 9 columns]"
            ]
          },
          "metadata": {
            "tags": []
          },
          "execution_count": 4
        }
      ]
    },
    {
      "cell_type": "code",
      "metadata": {
        "id": "ajNPiu_lwqDQ",
        "colab_type": "code",
        "colab": {
          "base_uri": "https://localhost:8080/",
          "height": 193
        },
        "outputId": "6a0fefb3-41b4-474e-b933-ec54d8ddf7fa"
      },
      "source": [
        "df.dtypes"
      ],
      "execution_count": 5,
      "outputs": [
        {
          "output_type": "execute_result",
          "data": {
            "text/plain": [
              "Number of times pregnant                                                      int64\n",
              "Plasma glucose concentration a 2 hours in an oral glucose tolerance test      int64\n",
              "Diastolic blood pressure (mm Hg)                                              int64\n",
              "Triceps skin fold thickness (mm)                                              int64\n",
              "2-Hour serum insulin (mu U/ml)                                                int64\n",
              "Body mass index (weight in kg/(height in m)^2)                              float64\n",
              "Diabetes pedigree function                                                  float64\n",
              "Age (years)                                                                   int64\n",
              "Class variable                                                                int64\n",
              "dtype: object"
            ]
          },
          "metadata": {
            "tags": []
          },
          "execution_count": 5
        }
      ]
    },
    {
      "cell_type": "code",
      "metadata": {
        "id": "gLS34Np9wuEW",
        "colab_type": "code",
        "colab": {}
      },
      "source": [
        "import pandas as pd\n",
        "import tensorflow as tf\n",
        "import numpy as np\n",
        "import matplotlib.pyplot as plt\n",
        "import pandas as pd\n",
        "import seaborn as sns\n",
        "from math import floor, ceil\n",
        "from pylab import rcParams\n",
        "from tensorflow import keras\n",
        "\n",
        "%matplotlib inline"
      ],
      "execution_count": 0,
      "outputs": []
    },
    {
      "cell_type": "code",
      "metadata": {
        "id": "zA7ps7U2xPdI",
        "colab_type": "code",
        "colab": {}
      },
      "source": [
        "dataset = tf.data.Dataset.from_tensor_slices((df.values, target.values))"
      ],
      "execution_count": 0,
      "outputs": []
    },
    {
      "cell_type": "code",
      "metadata": {
        "id": "xayQtKeMxUHA",
        "colab_type": "code",
        "colab": {
          "base_uri": "https://localhost:8080/",
          "height": 105
        },
        "outputId": "c07c1a92-5bb6-4c0d-ebcf-d7ed9f0de166"
      },
      "source": [
        "for feat, targ in dataset.take(5):\n",
        "  print ('Features: {}, Target: {}'.format(feat, targ))"
      ],
      "execution_count": 24,
      "outputs": [
        {
          "output_type": "stream",
          "text": [
            "Features: [  6.    148.     72.     35.      0.     33.6     0.627  50.   ], Target: 1\n",
            "Features: [ 1.    85.    66.    29.     0.    26.6    0.351 31.   ], Target: 0\n",
            "Features: [  8.    183.     64.      0.      0.     23.3     0.672  32.   ], Target: 1\n",
            "Features: [ 1.    89.    66.    23.    94.    28.1    0.167 21.   ], Target: 0\n",
            "Features: [  0.    137.     40.     35.    168.     43.1     2.288  33.   ], Target: 1\n"
          ],
          "name": "stdout"
        }
      ]
    },
    {
      "cell_type": "code",
      "metadata": {
        "id": "9QGt8QJwxtzw",
        "colab_type": "code",
        "colab": {}
      },
      "source": [
        "train_dataset = dataset.shuffle(len(df)).batch(1)"
      ],
      "execution_count": 0,
      "outputs": []
    },
    {
      "cell_type": "code",
      "metadata": {
        "id": "AHoRBuXkxy5W",
        "colab_type": "code",
        "colab": {}
      },
      "source": [
        "#simple neural network\n",
        "def get_compiled_model():\n",
        "  model = tf.keras.Sequential([\n",
        "    tf.keras.layers.Dense(10, activation='relu'),\n",
        "    tf.keras.layers.Dense(10, activation='relu'),\n",
        "    tf.keras.layers.Dense(1)\n",
        "  ])\n",
        "\n",
        "  model.compile(optimizer='adam',\n",
        "                loss=tf.keras.losses.BinaryCrossentropy(from_logits=True),\n",
        "                metrics=['accuracy'])\n",
        "  return model"
      ],
      "execution_count": 0,
      "outputs": []
    },
    {
      "cell_type": "code",
      "metadata": {
        "id": "YHWgUcBfx0zO",
        "colab_type": "code",
        "colab": {
          "base_uri": "https://localhost:8080/",
          "height": 688
        },
        "outputId": "355d553e-2d6e-4c3c-bd6a-f8a53aad7f67"
      },
      "source": [
        "model = get_compiled_model()\n",
        "model.fit(train_dataset, epochs=15)"
      ],
      "execution_count": 27,
      "outputs": [
        {
          "output_type": "stream",
          "text": [
            "Epoch 1/15\n",
            "WARNING:tensorflow:Layer dense_3 is casting an input tensor from dtype float64 to the layer's dtype of float32, which is new behavior in TensorFlow 2.  The layer has dtype float32 because it's dtype defaults to floatx.\n",
            "\n",
            "If you intended to run this layer in float32, you can safely ignore this warning. If in doubt, this warning is likely only an issue if you are porting a TensorFlow 1.X model to TensorFlow 2.\n",
            "\n",
            "To change all layers to have dtype float64 by default, call `tf.keras.backend.set_floatx('float64')`. To change just this layer, pass dtype='float64' to the layer constructor. If you are the author of this layer, you can disable autocasting by passing autocast=False to the base Layer constructor.\n",
            "\n",
            "768/768 [==============================] - 1s 1ms/step - loss: 2.8978 - accuracy: 0.5924\n",
            "Epoch 2/15\n",
            "768/768 [==============================] - 1s 1ms/step - loss: 0.7553 - accuracy: 0.6484\n",
            "Epoch 3/15\n",
            "768/768 [==============================] - 1s 1ms/step - loss: 0.7108 - accuracy: 0.6562\n",
            "Epoch 4/15\n",
            "768/768 [==============================] - 1s 1ms/step - loss: 0.6689 - accuracy: 0.6680\n",
            "Epoch 5/15\n",
            "768/768 [==============================] - 1s 1ms/step - loss: 0.6579 - accuracy: 0.6589\n",
            "Epoch 6/15\n",
            "768/768 [==============================] - 1s 1ms/step - loss: 0.6588 - accuracy: 0.6576\n",
            "Epoch 7/15\n",
            "768/768 [==============================] - 1s 1ms/step - loss: 0.6395 - accuracy: 0.6667\n",
            "Epoch 8/15\n",
            "768/768 [==============================] - 1s 1ms/step - loss: 0.6377 - accuracy: 0.6602\n",
            "Epoch 9/15\n",
            "768/768 [==============================] - 1s 1ms/step - loss: 0.6129 - accuracy: 0.6641\n",
            "Epoch 10/15\n",
            "768/768 [==============================] - 1s 1ms/step - loss: 0.6293 - accuracy: 0.6667\n",
            "Epoch 11/15\n",
            "768/768 [==============================] - 1s 1ms/step - loss: 0.6160 - accuracy: 0.6745\n",
            "Epoch 12/15\n",
            "768/768 [==============================] - 1s 1ms/step - loss: 0.6096 - accuracy: 0.6680\n",
            "Epoch 13/15\n",
            "768/768 [==============================] - 1s 1ms/step - loss: 0.6172 - accuracy: 0.6732\n",
            "Epoch 14/15\n",
            "768/768 [==============================] - 1s 1ms/step - loss: 0.6111 - accuracy: 0.6745\n",
            "Epoch 15/15\n",
            "768/768 [==============================] - 1s 1ms/step - loss: 0.6025 - accuracy: 0.6862\n"
          ],
          "name": "stdout"
        },
        {
          "output_type": "execute_result",
          "data": {
            "text/plain": [
              "<tensorflow.python.keras.callbacks.History at 0x7f9b1b93c7b8>"
            ]
          },
          "metadata": {
            "tags": []
          },
          "execution_count": 27
        }
      ]
    },
    {
      "cell_type": "code",
      "metadata": {
        "id": "ekDGjtzpzL58",
        "colab_type": "code",
        "colab": {}
      },
      "source": [
        "import collections\n",
        "import matplotlib.pyplot as plt\n",
        "import numpy as np\n",
        "\n",
        "import tensorflow as tf\n",
        "\n",
        "from tensorflow.keras import layers"
      ],
      "execution_count": 0,
      "outputs": []
    },
    {
      "cell_type": "code",
      "metadata": {
        "id": "aTaMuLM6zmDZ",
        "colab_type": "code",
        "colab": {
          "base_uri": "https://localhost:8080/",
          "height": 263
        },
        "outputId": "94250c66-e14d-4953-c605-85459266a448"
      },
      "source": [
        "#LSTM RNN\n",
        "model = tf.keras.Sequential()\n",
        "# Add an Embedding layer expecting input vocab of size 1000, and\n",
        "# output embedding dimension of size 64.\n",
        "model.add(layers.Embedding(input_dim=1000, output_dim=64))\n",
        "\n",
        "# Add a LSTM layer with 128 internal units.\n",
        "model.add(layers.LSTM(128))\n",
        "\n",
        "# Add a Dense layer with 10 units.\n",
        "model.add(layers.Dense(10))\n",
        "\n",
        "model.summary()"
      ],
      "execution_count": 30,
      "outputs": [
        {
          "output_type": "stream",
          "text": [
            "Model: \"sequential_4\"\n",
            "_________________________________________________________________\n",
            "Layer (type)                 Output Shape              Param #   \n",
            "=================================================================\n",
            "embedding (Embedding)        (None, None, 64)          64000     \n",
            "_________________________________________________________________\n",
            "lstm (LSTM)                  (None, 128)               98816     \n",
            "_________________________________________________________________\n",
            "dense_6 (Dense)              (None, 10)                1290      \n",
            "=================================================================\n",
            "Total params: 164,106\n",
            "Trainable params: 164,106\n",
            "Non-trainable params: 0\n",
            "_________________________________________________________________\n"
          ],
          "name": "stdout"
        }
      ]
    },
    {
      "cell_type": "code",
      "metadata": {
        "id": "CYTOnl9AzoJL",
        "colab_type": "code",
        "colab": {
          "base_uri": "https://localhost:8080/",
          "height": 1000
        },
        "outputId": "5a2f393b-b5db-41d6-b3d2-b4eee6da3072"
      },
      "source": [
        "model = get_compiled_model()\n",
        "model.fit(train_dataset, epochs=30)"
      ],
      "execution_count": 34,
      "outputs": [
        {
          "output_type": "stream",
          "text": [
            "Epoch 1/30\n",
            "WARNING:tensorflow:Layer dense_14 is casting an input tensor from dtype float64 to the layer's dtype of float32, which is new behavior in TensorFlow 2.  The layer has dtype float32 because it's dtype defaults to floatx.\n",
            "\n",
            "If you intended to run this layer in float32, you can safely ignore this warning. If in doubt, this warning is likely only an issue if you are porting a TensorFlow 1.X model to TensorFlow 2.\n",
            "\n",
            "To change all layers to have dtype float64 by default, call `tf.keras.backend.set_floatx('float64')`. To change just this layer, pass dtype='float64' to the layer constructor. If you are the author of this layer, you can disable autocasting by passing autocast=False to the base Layer constructor.\n",
            "\n",
            "768/768 [==============================] - 1s 1ms/step - loss: 5.5065 - accuracy: 0.6302\n",
            "Epoch 2/30\n",
            "768/768 [==============================] - 1s 1ms/step - loss: 1.4906 - accuracy: 0.6406\n",
            "Epoch 3/30\n",
            "768/768 [==============================] - 1s 1ms/step - loss: 1.2548 - accuracy: 0.6354\n",
            "Epoch 4/30\n",
            "768/768 [==============================] - 1s 1ms/step - loss: 1.0756 - accuracy: 0.6536\n",
            "Epoch 5/30\n",
            "768/768 [==============================] - 1s 1ms/step - loss: 1.0437 - accuracy: 0.6628\n",
            "Epoch 6/30\n",
            "768/768 [==============================] - 1s 1ms/step - loss: 0.9101 - accuracy: 0.6680\n",
            "Epoch 7/30\n",
            "768/768 [==============================] - 1s 1ms/step - loss: 0.8809 - accuracy: 0.6693\n",
            "Epoch 8/30\n",
            "768/768 [==============================] - 1s 1ms/step - loss: 0.8471 - accuracy: 0.6667\n",
            "Epoch 9/30\n",
            "768/768 [==============================] - 1s 1ms/step - loss: 0.7778 - accuracy: 0.6810\n",
            "Epoch 10/30\n",
            "768/768 [==============================] - 1s 1ms/step - loss: 0.7494 - accuracy: 0.7005\n",
            "Epoch 11/30\n",
            "768/768 [==============================] - 1s 1ms/step - loss: 0.6849 - accuracy: 0.6966\n",
            "Epoch 12/30\n",
            "768/768 [==============================] - 1s 1ms/step - loss: 0.7068 - accuracy: 0.6745\n",
            "Epoch 13/30\n",
            "768/768 [==============================] - 1s 1ms/step - loss: 0.6828 - accuracy: 0.6992\n",
            "Epoch 14/30\n",
            "768/768 [==============================] - 1s 1ms/step - loss: 0.6707 - accuracy: 0.7005\n",
            "Epoch 15/30\n",
            "768/768 [==============================] - 1s 1ms/step - loss: 0.6276 - accuracy: 0.7174\n",
            "Epoch 16/30\n",
            "768/768 [==============================] - 1s 1ms/step - loss: 0.6442 - accuracy: 0.7174\n",
            "Epoch 17/30\n",
            "768/768 [==============================] - 1s 1ms/step - loss: 0.6377 - accuracy: 0.7096\n",
            "Epoch 18/30\n",
            "768/768 [==============================] - 1s 1ms/step - loss: 0.6125 - accuracy: 0.7135\n",
            "Epoch 19/30\n",
            "768/768 [==============================] - 1s 1ms/step - loss: 0.6157 - accuracy: 0.7135\n",
            "Epoch 20/30\n",
            "768/768 [==============================] - 1s 1ms/step - loss: 0.6270 - accuracy: 0.7109\n",
            "Epoch 21/30\n",
            "768/768 [==============================] - 1s 1ms/step - loss: 0.5867 - accuracy: 0.7109\n",
            "Epoch 22/30\n",
            "768/768 [==============================] - 1s 1ms/step - loss: 0.5864 - accuracy: 0.7240\n",
            "Epoch 23/30\n",
            "768/768 [==============================] - 1s 1ms/step - loss: 0.6042 - accuracy: 0.7240\n",
            "Epoch 24/30\n",
            "768/768 [==============================] - 1s 1ms/step - loss: 0.5931 - accuracy: 0.7161\n",
            "Epoch 25/30\n",
            "768/768 [==============================] - 1s 1ms/step - loss: 0.5918 - accuracy: 0.7148\n",
            "Epoch 26/30\n",
            "768/768 [==============================] - 1s 1ms/step - loss: 0.6048 - accuracy: 0.7031\n",
            "Epoch 27/30\n",
            "768/768 [==============================] - 1s 1ms/step - loss: 0.5662 - accuracy: 0.7122\n",
            "Epoch 28/30\n",
            "768/768 [==============================] - 1s 1ms/step - loss: 0.5803 - accuracy: 0.7201\n",
            "Epoch 29/30\n",
            "768/768 [==============================] - 1s 1ms/step - loss: 0.5675 - accuracy: 0.7240\n",
            "Epoch 30/30\n",
            "768/768 [==============================] - 1s 1ms/step - loss: 0.5537 - accuracy: 0.7396\n"
          ],
          "name": "stdout"
        },
        {
          "output_type": "execute_result",
          "data": {
            "text/plain": [
              "<tensorflow.python.keras.callbacks.History at 0x7f9b196ef9b0>"
            ]
          },
          "metadata": {
            "tags": []
          },
          "execution_count": 34
        }
      ]
    },
    {
      "cell_type": "code",
      "metadata": {
        "id": "B26VQq-n0Iv9",
        "colab_type": "code",
        "colab": {
          "base_uri": "https://localhost:8080/",
          "height": 298
        },
        "outputId": "9f0acc45-99d2-479e-8082-f488abcf3af0"
      },
      "source": [
        "# GRU RNN \n",
        "model = tf.keras.Sequential()\n",
        "model.add(layers.Embedding(input_dim=1000, output_dim=64))\n",
        "\n",
        "# The output of GRU will be a 3D tensor of shape (batch_size, timesteps, 256)\n",
        "model.add(layers.GRU(256, return_sequences=True))\n",
        "\n",
        "# The output of SimpleRNN will be a 2D tensor of shape (batch_size, 128)\n",
        "model.add(layers.SimpleRNN(128))\n",
        "\n",
        "model.add(layers.Dense(10))\n",
        "\n",
        "model.summary() "
      ],
      "execution_count": 32,
      "outputs": [
        {
          "output_type": "stream",
          "text": [
            "Model: \"sequential_6\"\n",
            "_________________________________________________________________\n",
            "Layer (type)                 Output Shape              Param #   \n",
            "=================================================================\n",
            "embedding_1 (Embedding)      (None, None, 64)          64000     \n",
            "_________________________________________________________________\n",
            "gru (GRU)                    (None, None, 256)         247296    \n",
            "_________________________________________________________________\n",
            "simple_rnn (SimpleRNN)       (None, 128)               49280     \n",
            "_________________________________________________________________\n",
            "dense_10 (Dense)             (None, 10)                1290      \n",
            "=================================================================\n",
            "Total params: 361,866\n",
            "Trainable params: 361,866\n",
            "Non-trainable params: 0\n",
            "_________________________________________________________________\n"
          ],
          "name": "stdout"
        }
      ]
    },
    {
      "cell_type": "code",
      "metadata": {
        "id": "6Skj7Wb90M_Q",
        "colab_type": "code",
        "colab": {
          "base_uri": "https://localhost:8080/",
          "height": 1000
        },
        "outputId": "a5a08ee7-b10e-4e71-c227-eaf7773f328c"
      },
      "source": [
        "model = get_compiled_model()\n",
        "model.fit(train_dataset, epochs=30)"
      ],
      "execution_count": 35,
      "outputs": [
        {
          "output_type": "stream",
          "text": [
            "Epoch 1/30\n",
            "WARNING:tensorflow:Layer dense_17 is casting an input tensor from dtype float64 to the layer's dtype of float32, which is new behavior in TensorFlow 2.  The layer has dtype float32 because it's dtype defaults to floatx.\n",
            "\n",
            "If you intended to run this layer in float32, you can safely ignore this warning. If in doubt, this warning is likely only an issue if you are porting a TensorFlow 1.X model to TensorFlow 2.\n",
            "\n",
            "To change all layers to have dtype float64 by default, call `tf.keras.backend.set_floatx('float64')`. To change just this layer, pass dtype='float64' to the layer constructor. If you are the author of this layer, you can disable autocasting by passing autocast=False to the base Layer constructor.\n",
            "\n",
            "768/768 [==============================] - 1s 1ms/step - loss: 1.3623 - accuracy: 0.5938\n",
            "Epoch 2/30\n",
            "768/768 [==============================] - 1s 1ms/step - loss: 0.8448 - accuracy: 0.6706\n",
            "Epoch 3/30\n",
            "768/768 [==============================] - 1s 1ms/step - loss: 0.8243 - accuracy: 0.6719\n",
            "Epoch 4/30\n",
            "768/768 [==============================] - 1s 1ms/step - loss: 0.7489 - accuracy: 0.6680\n",
            "Epoch 5/30\n",
            "768/768 [==============================] - 1s 1ms/step - loss: 0.7325 - accuracy: 0.6484\n",
            "Epoch 6/30\n",
            "768/768 [==============================] - 1s 1ms/step - loss: 0.6763 - accuracy: 0.6758\n",
            "Epoch 7/30\n",
            "768/768 [==============================] - 1s 1ms/step - loss: 0.6969 - accuracy: 0.6706\n",
            "Epoch 8/30\n",
            "768/768 [==============================] - 1s 1ms/step - loss: 0.6703 - accuracy: 0.6706\n",
            "Epoch 9/30\n",
            "768/768 [==============================] - 1s 1ms/step - loss: 0.6476 - accuracy: 0.7005\n",
            "Epoch 10/30\n",
            "768/768 [==============================] - 1s 1ms/step - loss: 0.6507 - accuracy: 0.7005\n",
            "Epoch 11/30\n",
            "768/768 [==============================] - 1s 1ms/step - loss: 0.6291 - accuracy: 0.7044\n",
            "Epoch 12/30\n",
            "768/768 [==============================] - 1s 1ms/step - loss: 0.6220 - accuracy: 0.7031\n",
            "Epoch 13/30\n",
            "768/768 [==============================] - 1s 1ms/step - loss: 0.6213 - accuracy: 0.6979\n",
            "Epoch 14/30\n",
            "768/768 [==============================] - 1s 1ms/step - loss: 0.6284 - accuracy: 0.7135\n",
            "Epoch 15/30\n",
            "768/768 [==============================] - 1s 1ms/step - loss: 0.5987 - accuracy: 0.7083\n",
            "Epoch 16/30\n",
            "768/768 [==============================] - 1s 1ms/step - loss: 0.5773 - accuracy: 0.7240\n",
            "Epoch 17/30\n",
            "768/768 [==============================] - 1s 1ms/step - loss: 0.5792 - accuracy: 0.7201\n",
            "Epoch 18/30\n",
            "768/768 [==============================] - 1s 1ms/step - loss: 0.5970 - accuracy: 0.6979\n",
            "Epoch 19/30\n",
            "768/768 [==============================] - 1s 1ms/step - loss: 0.5767 - accuracy: 0.7057\n",
            "Epoch 20/30\n",
            "768/768 [==============================] - 1s 1ms/step - loss: 0.5803 - accuracy: 0.7188\n",
            "Epoch 21/30\n",
            "768/768 [==============================] - 1s 1ms/step - loss: 0.5771 - accuracy: 0.7109\n",
            "Epoch 22/30\n",
            "768/768 [==============================] - 1s 1ms/step - loss: 0.5614 - accuracy: 0.7031\n",
            "Epoch 23/30\n",
            "768/768 [==============================] - 1s 1ms/step - loss: 0.5761 - accuracy: 0.7318\n",
            "Epoch 24/30\n",
            "768/768 [==============================] - 1s 1ms/step - loss: 0.5613 - accuracy: 0.7122\n",
            "Epoch 25/30\n",
            "768/768 [==============================] - 1s 1ms/step - loss: 0.5656 - accuracy: 0.7057\n",
            "Epoch 26/30\n",
            "768/768 [==============================] - 1s 1ms/step - loss: 0.5632 - accuracy: 0.7148\n",
            "Epoch 27/30\n",
            "768/768 [==============================] - 1s 1ms/step - loss: 0.5515 - accuracy: 0.7201\n",
            "Epoch 28/30\n",
            "768/768 [==============================] - 1s 1ms/step - loss: 0.5562 - accuracy: 0.7227\n",
            "Epoch 29/30\n",
            "768/768 [==============================] - 1s 1ms/step - loss: 0.5430 - accuracy: 0.7174\n",
            "Epoch 30/30\n",
            "768/768 [==============================] - 1s 1ms/step - loss: 0.5536 - accuracy: 0.7188\n"
          ],
          "name": "stdout"
        },
        {
          "output_type": "execute_result",
          "data": {
            "text/plain": [
              "<tensorflow.python.keras.callbacks.History at 0x7f9b18dd8518>"
            ]
          },
          "metadata": {
            "tags": []
          },
          "execution_count": 35
        }
      ]
    }
  ]
}